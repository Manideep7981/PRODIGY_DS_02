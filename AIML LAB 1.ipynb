{
  "nbformat": 4,
  "nbformat_minor": 0,
  "metadata": {
    "colab": {
      "provenance": [],
      "authorship_tag": "ABX9TyPem+F80KjFhnY2a/8WrNAn",
      "include_colab_link": true
    },
    "kernelspec": {
      "name": "python3",
      "display_name": "Python 3"
    },
    "language_info": {
      "name": "python"
    }
  },
  "cells": [
    {
      "cell_type": "markdown",
      "metadata": {
        "id": "view-in-github",
        "colab_type": "text"
      },
      "source": [
        "<a href=\"https://colab.research.google.com/github/Manideep7981/PRODIGY_DS_02/blob/main/AIML%20LAB%201.ipynb\" target=\"_parent\"><img src=\"https://colab.research.google.com/assets/colab-badge.svg\" alt=\"Open In Colab\"/></a>"
      ]
    },
    {
      "cell_type": "code",
      "source": [
        "import numpy as np\n",
        "import pandas as pd\n",
        "a=[2,3,4,5]\n",
        "print(\"this is a list\",a)\n",
        "array=np.array(a)\n",
        "print(\"this is a array\",a)"
      ],
      "metadata": {
        "colab": {
          "base_uri": "https://localhost:8080/"
        },
        "id": "BllN6oX6GtSU",
        "outputId": "ba68153d-e366-4062-cafd-8065a0b6db47"
      },
      "execution_count": 2,
      "outputs": [
        {
          "output_type": "stream",
          "name": "stdout",
          "text": [
            "this is a list [2, 3, 4, 5]\n",
            "this is a array [2, 3, 4, 5]\n"
          ]
        }
      ]
    },
    {
      "cell_type": "code",
      "source": [],
      "metadata": {
        "id": "brFQrMieOJq4"
      },
      "execution_count": null,
      "outputs": []
    },
    {
      "cell_type": "code",
      "source": [
        "import numpy as np\n",
        "array1= np.array([1,2,3])\n",
        "array2= np.array([4,5,6])\n",
        "print(\"Addition :\"+str(array1+array2))\n",
        "print(\"Subtraction :\"+str(array1-array2))\n",
        "print(\"Multiplication :\"+str(array1*array2))\n",
        "print(\"Division :\"+str(array1/array2))\n",
        "print(\"Power :\"+str(array1**array2))\n",
        "print(\"Modulus :\"+str(array1%array2))"
      ],
      "metadata": {
        "colab": {
          "base_uri": "https://localhost:8080/"
        },
        "id": "g5iaVuVnG62Z",
        "outputId": "98b65a21-e84a-4d94-f52c-d43d2d89fc9a"
      },
      "execution_count": 3,
      "outputs": [
        {
          "output_type": "stream",
          "name": "stdout",
          "text": [
            "Addition :[5 7 9]\n",
            "Subtraction :[-3 -3 -3]\n",
            "Multiplication :[ 4 10 18]\n",
            "Division :[0.25 0.4  0.5 ]\n",
            "Power :[  1  32 729]\n",
            "Modulus :[1 2 3]\n"
          ]
        }
      ]
    }
  ]
}